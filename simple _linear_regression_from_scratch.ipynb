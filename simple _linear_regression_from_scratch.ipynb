{
  "nbformat": 4,
  "nbformat_minor": 0,
  "metadata": {
    "colab": {
      "provenance": []
    },
    "kernelspec": {
      "name": "python3",
      "display_name": "Python 3"
    }
  },
  "cells": [
    {
      "cell_type": "code",
      "source": [
        "# Linear Regression from scratch in Python\n",
        "\n",
        "# Step 1: Initialize parameters (slope and intercept)\n",
        "def initialize_parameters():\n",
        "    return 0, 0  # Initial slope (m) and intercept (b)\n",
        "\n",
        "# Step 2: Define the prediction function\n",
        "def predict(x, m, b):\n",
        "    return m * x + b\n",
        "\n",
        "# Step 3: Compute the Mean Squared Error\n",
        "\n",
        "\n",
        "# Step 4: Gradient Descent to update parameters\n",
        "def gradient_descent(x, y, m, b, learning_rate, epochs):\n",
        "    n = len(x)\n",
        "    for epoch in range(epochs):\n",
        "        y_pred = [predict(xi, m, b) for xi in x]\n",
        "\n",
        "        # Calculate gradients\n",
        "        dm = -2/n * sum(x[i] * (y[i] - y_pred[i]) for i in range(n))\n",
        "        db = -2/n * sum((y[i] - y_pred[i]) for i in range(n))\n",
        "\n",
        "        # Update parameters\n",
        "        m -= learning_rate * dm\n",
        "        b -= learning_rate * db\n",
        "\n",
        "    return m, b\n",
        "\n",
        "# Step 5: Train the model\n",
        "def train_linear_regression(x, y, learning_rate=0.01, epochs=1000):\n",
        "    m, b = initialize_parameters()\n",
        "    m, b = gradient_descent(x, y, m, b, learning_rate, epochs)\n",
        "    return m, b\n",
        "\n",
        "# Step 6: Example usage\n",
        "if __name__ == \"__main__\":\n",
        "    # Sample data\n",
        "    x = [1, 2, 3, 4, 5]\n",
        "    y = [3, 5, 7, 9, 11]\n",
        "\n",
        "    # Train the model\n",
        "    m, b = train_linear_regression(x, y)\n",
        "\n",
        "    # Make predictions\n",
        "    predictions = [predict(xi, m, b) for xi in x]\n",
        "\n",
        "    # Output results\n",
        "    print(f\"Slope (m): {m}\")\n",
        "    print(f\"Intercept (b): {b}\")\n",
        "    print(f\"Predictions: {predictions}\")\n"
      ],
      "metadata": {
        "colab": {
          "base_uri": "https://localhost:8080/"
        },
        "collapsed": true,
        "id": "wpLARLLuq6fn",
        "outputId": "cae1cd76-8ba6-4ee0-b778-0c639722672c"
      },
      "execution_count": 14,
      "outputs": [
        {
          "output_type": "stream",
          "name": "stdout",
          "text": [
            "Slope (m): 2.003880582342283\n",
            "Intercept (b): 0.9859898664422495\n",
            "Predictions: [2.9898704487845325, 4.993751031126815, 6.997631613469098, 9.001512195811381, 11.005392778153665]\n"
          ]
        }
      ]
    }
  ]
}